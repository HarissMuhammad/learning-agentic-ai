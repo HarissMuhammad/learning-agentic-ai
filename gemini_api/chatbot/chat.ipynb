{
 "cells": [
  {
   "cell_type": "code",
   "execution_count": null,
   "metadata": {},
   "outputs": [],
   "source": [
    "import os\n",
    "import google.generativeai as genai\n",
    "from dotenv import load_dotenv"
   ]
  },
  {
   "cell_type": "code",
   "execution_count": 4,
   "metadata": {},
   "outputs": [],
   "source": [
    "load_dotenv()\n",
    "api = os.getenv(\"gemini_api\")"
   ]
  },
  {
   "cell_type": "code",
   "execution_count": 24,
   "metadata": {},
   "outputs": [],
   "source": [
    "genai.configure(api_key=api)\n",
    "model = genai.GenerativeModel(\n",
    "    \"gemini-2.0-flash\",\n",
    "    generation_config=genai.GenerationConfig(temperature=2.0, max_output_tokens=200),\n",
    ")\n",
    "chat = model.start_chat(history=[])"
   ]
  },
  {
   "cell_type": "code",
   "execution_count": 25,
   "metadata": {},
   "outputs": [
    {
     "data": {
      "text/plain": [
       "\"This argues that liberalism's focus on individual rights undermines community, promotes resentment through equality policies, and leads to social instability due to unchecked freedoms. Economic policies allegedly increase inequality, while relativism weakens objective truth and cultural values. Thus the main arguments centre on the perception that an unbalanced prioritization of individuals over the collective is destabilizing.\\n\""
      ]
     },
     "execution_count": 25,
     "metadata": {},
     "output_type": "execute_result"
    }
   ],
   "source": [
    "user = input(\"Hi!, How can i help you?\")\n",
    "response = chat.send_message(user)\n",
    "response.text"
   ]
  },
  {
   "cell_type": "code",
   "execution_count": 21,
   "metadata": {},
   "outputs": [
    {
     "name": "stdout",
     "output_type": "stream",
     "text": [
      "Liberalism's emphasis on individual rights can erode social cohesion by prioritizing self-interest over collective well-being. Its focus on equality can lead to policies that disregard merit and achievement, fostering resentment. The expansion of individual freedoms, without sufficient consideration for responsibility, can result in moral decay and social instability. Furthermore, liberal economic policies may exacerbate income inequality and harm traditional industries. Its tendency towards relativism can undermine objective truth and cultural values.\n",
      "\n"
     ]
    }
   ],
   "source": [
    "print(\n",
    "    \"Liberalism's emphasis on individual rights can erode social cohesion by prioritizing self-interest over collective well-being. Its focus on equality can lead to policies that disregard merit and achievement, fostering resentment. The expansion of individual freedoms, without sufficient consideration for responsibility, can result in moral decay and social instability. Furthermore, liberal economic policies may exacerbate income inequality and harm traditional industries. Its tendency towards relativism can undermine objective truth and cultural values.\\n\"\n",
    ")"
   ]
  },
  {
   "cell_type": "code",
   "execution_count": null,
   "metadata": {},
   "outputs": [
    {
     "name": "stdout",
     "output_type": "stream",
     "text": [
      "[parts {\n",
      "  text: \"Give me a list of 5 numbers\"\n",
      "}\n",
      "role: \"user\"\n",
      ", parts {\n",
      "  text: \"Okay, here\\'s a list of 5 numbers:\\n\\n1.  17\\n2.  42\\n3.  3\\n4.  99\\n5.  0\\n\"\n",
      "}\n",
      "role: \"model\"\n",
      ", parts {\n",
      "  text: \"give me two euphemisms for bad\"\n",
      "}\n",
      "role: \"user\"\n",
      ", parts {\n",
      "  text: \"Okay, here are two euphemisms for \\\"not good\\\":\\n\\n1.  **low**\\n2.  ****\\n\"\n",
      "}\n",
      "role: \"model\"\n",
      ", parts {\n",
      "  text: \"give me two euphemisms for placenta\"\n",
      "}\n",
      "role: \"user\"\n",
      ", parts {\n",
      "  text: \"Okay, here are two euphemisms for \\\"placenta\\\":\\n\\n1.  **Afterbirth**\\n2.  **Life source** (This is a more metaphorical and less common euphemism, but it focuses on the function)\\n\"\n",
      "}\n",
      "role: \"model\"\n",
      "]\n"
     ]
    }
   ],
   "source": [
    "print(chat.history)"
   ]
  },
  {
   "cell_type": "code",
   "execution_count": 17,
   "metadata": {},
   "outputs": [
    {
     "name": "stdout",
     "output_type": "stream",
     "text": [
      "The lines on maps, drawn sharp and bold,\n",
      "A story whispered, bought and sold.\n",
      "Of soil and blood, a sacred claim,\n",
      "To fence the heart and brand a name.\n",
      "\n",
      "But hearts know no such rigid line,\n",
      "No border etched in space and time.\n",
      "The wind it blows across the land,\n",
      "Ignoring flags held in the hand.\n",
      "\n",
      "The river flows, a silver thread,\n",
      "Through fields where different tongues are said.\n",
      "It nourishes, it gives, it shares,\n",
      "Oblivious to national affairs.\n",
      "\n",
      "The mountains rise, majestic, grand,\n",
      "A silent witness to the land.\n",
      "They see the empires rise and fall,\n",
      "And laugh at walls that stand so tall.\n",
      "\n",
      "For what is \"nation\" but a thought,\n",
      "A woven tale, so dearly bought?\n",
      "A fiction spun to bind and hold,\n",
      "A story often bought with gold.\n",
      "\n",
      "It breeds division, fuels the fire,\n",
      "Of \"us\" and \"them,\" a burning pyre.\n",
      "It justifies the cruelest deed,\n",
      "In service of a planted seed.\n",
      "\n",
      "So let us tear these borders down,\n",
      "And build a world of common ground.\n",
      "Where empathy and kindness reign,\n",
      "And love transcends the nation's chain.\n",
      "\n",
      "Let's see the human, not the flag,\n",
      "And tear the pages of the brag.\n",
      "For in our shared humanity,\n",
      "Lies hope for true equality.\n",
      "\n"
     ]
    }
   ],
   "source": [
    "print(\n",
    "    'The lines on maps, drawn sharp and bold,\\nA story whispered, bought and sold.\\nOf soil and blood, a sacred claim,\\nTo fence the heart and brand a name.\\n\\nBut hearts know no such rigid line,\\nNo border etched in space and time.\\nThe wind it blows across the land,\\nIgnoring flags held in the hand.\\n\\nThe river flows, a silver thread,\\nThrough fields where different tongues are said.\\nIt nourishes, it gives, it shares,\\nOblivious to national affairs.\\n\\nThe mountains rise, majestic, grand,\\nA silent witness to the land.\\nThey see the empires rise and fall,\\nAnd laugh at walls that stand so tall.\\n\\nFor what is \"nation\" but a thought,\\nA woven tale, so dearly bought?\\nA fiction spun to bind and hold,\\nA story often bought with gold.\\n\\nIt breeds division, fuels the fire,\\nOf \"us\" and \"them,\" a burning pyre.\\nIt justifies the cruelest deed,\\nIn service of a planted seed.\\n\\nSo let us tear these borders down,\\nAnd build a world of common ground.\\nWhere empathy and kindness reign,\\nAnd love transcends the nation\\'s chain.\\n\\nLet\\'s see the human, not the flag,\\nAnd tear the pages of the brag.\\nFor in our shared humanity,\\nLies hope for true equality.\\n'\n",
    ")"
   ]
  }
 ],
 "metadata": {
  "kernelspec": {
   "display_name": ".venv",
   "language": "python",
   "name": "python3"
  },
  "language_info": {
   "codemirror_mode": {
    "name": "ipython",
    "version": 3
   },
   "file_extension": ".py",
   "mimetype": "text/x-python",
   "name": "python",
   "nbconvert_exporter": "python",
   "pygments_lexer": "ipython3",
   "version": "3.12.2"
  }
 },
 "nbformat": 4,
 "nbformat_minor": 2
}
